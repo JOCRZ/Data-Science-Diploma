{
  "nbformat": 4,
  "nbformat_minor": 0,
  "metadata": {
    "colab": {
      "provenance": [],
      "mount_file_id": "1MYsdM0sFdDS3dFLrETBpdOT5baGp63xB",
      "authorship_tag": "ABX9TyNuosohxeX1RGnTICsWvXQ8",
      "include_colab_link": true
    },
    "kernelspec": {
      "name": "python3",
      "display_name": "Python 3"
    },
    "language_info": {
      "name": "python"
    }
  },
  "cells": [
    {
      "cell_type": "markdown",
      "metadata": {
        "id": "view-in-github",
        "colab_type": "text"
      },
      "source": [
        "<a href=\"https://colab.research.google.com/github/JOCRZ/Data-Science-Diploma/blob/main/CustomerChurnPrediction(ANN).ipynb\" target=\"_parent\"><img src=\"https://colab.research.google.com/assets/colab-badge.svg\" alt=\"Open In Colab\"/></a>"
      ]
    },
    {
      "cell_type": "markdown",
      "source": [
        "# Customer Churn Prediction Using ANN\n",
        "\n",
        "## Build ANN using Keras"
      ],
      "metadata": {
        "id": "Hio0tKIFILeQ"
      }
    },
    {
      "cell_type": "code",
      "source": [
        "import pandas as pd\n",
        "import numpy as np"
      ],
      "metadata": {
        "id": "1MUaKFHQIOJ3"
      },
      "execution_count": 86,
      "outputs": []
    },
    {
      "cell_type": "code",
      "source": [
        "data = pd.read_csv('/content/drive/MyDrive/DL Notebooks/Dataset/Churn_Modelling.csv')"
      ],
      "metadata": {
        "id": "XSBIISGkI-mk"
      },
      "execution_count": 87,
      "outputs": []
    },
    {
      "cell_type": "code",
      "source": [
        "data.sample(5)"
      ],
      "metadata": {
        "colab": {
          "base_uri": "https://localhost:8080/",
          "height": 226
        },
        "id": "nDggSedQIOWd",
        "outputId": "8f8c8bc3-c67d-426a-fcf6-a65b5d25e18b"
      },
      "execution_count": 88,
      "outputs": [
        {
          "output_type": "execute_result",
          "data": {
            "text/plain": [
              "      RowNumber  CustomerId    Surname  CreditScore Geography  Gender  Age  \\\n",
              "4307       4308    15702499   Schnaars          770     Spain    Male   46   \n",
              "7036       7037    15678882        Hay          540   Germany    Male   37   \n",
              "3691       3692    15760244       Ives          590    France  Female   76   \n",
              "6806       6807    15795586   McDonald          478    France    Male   35   \n",
              "9187       9188    15628863  Calabresi          601    France    Male   38   \n",
              "\n",
              "      Tenure    Balance  NumOfProducts  HasCrCard  IsActiveMember  \\\n",
              "4307       9  190678.02              1          1               1   \n",
              "7036       3  129965.18              1          0               0   \n",
              "3691       5  160979.68              1          0               1   \n",
              "6806       1   92474.05              1          1               0   \n",
              "9187       4   60013.81              1          1               1   \n",
              "\n",
              "      EstimatedSalary  Exited  \n",
              "4307         14725.36       0  \n",
              "7036         19374.08       0  \n",
              "3691         13848.58       0  \n",
              "6806        178626.07       0  \n",
              "9187         38020.05       0  "
            ],
            "text/html": [
              "\n",
              "  <div id=\"df-65d130d2-ecda-4e89-93e8-a228a1b25a12\" class=\"colab-df-container\">\n",
              "    <div>\n",
              "<style scoped>\n",
              "    .dataframe tbody tr th:only-of-type {\n",
              "        vertical-align: middle;\n",
              "    }\n",
              "\n",
              "    .dataframe tbody tr th {\n",
              "        vertical-align: top;\n",
              "    }\n",
              "\n",
              "    .dataframe thead th {\n",
              "        text-align: right;\n",
              "    }\n",
              "</style>\n",
              "<table border=\"1\" class=\"dataframe\">\n",
              "  <thead>\n",
              "    <tr style=\"text-align: right;\">\n",
              "      <th></th>\n",
              "      <th>RowNumber</th>\n",
              "      <th>CustomerId</th>\n",
              "      <th>Surname</th>\n",
              "      <th>CreditScore</th>\n",
              "      <th>Geography</th>\n",
              "      <th>Gender</th>\n",
              "      <th>Age</th>\n",
              "      <th>Tenure</th>\n",
              "      <th>Balance</th>\n",
              "      <th>NumOfProducts</th>\n",
              "      <th>HasCrCard</th>\n",
              "      <th>IsActiveMember</th>\n",
              "      <th>EstimatedSalary</th>\n",
              "      <th>Exited</th>\n",
              "    </tr>\n",
              "  </thead>\n",
              "  <tbody>\n",
              "    <tr>\n",
              "      <th>4307</th>\n",
              "      <td>4308</td>\n",
              "      <td>15702499</td>\n",
              "      <td>Schnaars</td>\n",
              "      <td>770</td>\n",
              "      <td>Spain</td>\n",
              "      <td>Male</td>\n",
              "      <td>46</td>\n",
              "      <td>9</td>\n",
              "      <td>190678.02</td>\n",
              "      <td>1</td>\n",
              "      <td>1</td>\n",
              "      <td>1</td>\n",
              "      <td>14725.36</td>\n",
              "      <td>0</td>\n",
              "    </tr>\n",
              "    <tr>\n",
              "      <th>7036</th>\n",
              "      <td>7037</td>\n",
              "      <td>15678882</td>\n",
              "      <td>Hay</td>\n",
              "      <td>540</td>\n",
              "      <td>Germany</td>\n",
              "      <td>Male</td>\n",
              "      <td>37</td>\n",
              "      <td>3</td>\n",
              "      <td>129965.18</td>\n",
              "      <td>1</td>\n",
              "      <td>0</td>\n",
              "      <td>0</td>\n",
              "      <td>19374.08</td>\n",
              "      <td>0</td>\n",
              "    </tr>\n",
              "    <tr>\n",
              "      <th>3691</th>\n",
              "      <td>3692</td>\n",
              "      <td>15760244</td>\n",
              "      <td>Ives</td>\n",
              "      <td>590</td>\n",
              "      <td>France</td>\n",
              "      <td>Female</td>\n",
              "      <td>76</td>\n",
              "      <td>5</td>\n",
              "      <td>160979.68</td>\n",
              "      <td>1</td>\n",
              "      <td>0</td>\n",
              "      <td>1</td>\n",
              "      <td>13848.58</td>\n",
              "      <td>0</td>\n",
              "    </tr>\n",
              "    <tr>\n",
              "      <th>6806</th>\n",
              "      <td>6807</td>\n",
              "      <td>15795586</td>\n",
              "      <td>McDonald</td>\n",
              "      <td>478</td>\n",
              "      <td>France</td>\n",
              "      <td>Male</td>\n",
              "      <td>35</td>\n",
              "      <td>1</td>\n",
              "      <td>92474.05</td>\n",
              "      <td>1</td>\n",
              "      <td>1</td>\n",
              "      <td>0</td>\n",
              "      <td>178626.07</td>\n",
              "      <td>0</td>\n",
              "    </tr>\n",
              "    <tr>\n",
              "      <th>9187</th>\n",
              "      <td>9188</td>\n",
              "      <td>15628863</td>\n",
              "      <td>Calabresi</td>\n",
              "      <td>601</td>\n",
              "      <td>France</td>\n",
              "      <td>Male</td>\n",
              "      <td>38</td>\n",
              "      <td>4</td>\n",
              "      <td>60013.81</td>\n",
              "      <td>1</td>\n",
              "      <td>1</td>\n",
              "      <td>1</td>\n",
              "      <td>38020.05</td>\n",
              "      <td>0</td>\n",
              "    </tr>\n",
              "  </tbody>\n",
              "</table>\n",
              "</div>\n",
              "    <div class=\"colab-df-buttons\">\n",
              "\n",
              "  <div class=\"colab-df-container\">\n",
              "    <button class=\"colab-df-convert\" onclick=\"convertToInteractive('df-65d130d2-ecda-4e89-93e8-a228a1b25a12')\"\n",
              "            title=\"Convert this dataframe to an interactive table.\"\n",
              "            style=\"display:none;\">\n",
              "\n",
              "  <svg xmlns=\"http://www.w3.org/2000/svg\" height=\"24px\" viewBox=\"0 -960 960 960\">\n",
              "    <path d=\"M120-120v-720h720v720H120Zm60-500h600v-160H180v160Zm220 220h160v-160H400v160Zm0 220h160v-160H400v160ZM180-400h160v-160H180v160Zm440 0h160v-160H620v160ZM180-180h160v-160H180v160Zm440 0h160v-160H620v160Z\"/>\n",
              "  </svg>\n",
              "    </button>\n",
              "\n",
              "  <style>\n",
              "    .colab-df-container {\n",
              "      display:flex;\n",
              "      gap: 12px;\n",
              "    }\n",
              "\n",
              "    .colab-df-convert {\n",
              "      background-color: #E8F0FE;\n",
              "      border: none;\n",
              "      border-radius: 50%;\n",
              "      cursor: pointer;\n",
              "      display: none;\n",
              "      fill: #1967D2;\n",
              "      height: 32px;\n",
              "      padding: 0 0 0 0;\n",
              "      width: 32px;\n",
              "    }\n",
              "\n",
              "    .colab-df-convert:hover {\n",
              "      background-color: #E2EBFA;\n",
              "      box-shadow: 0px 1px 2px rgba(60, 64, 67, 0.3), 0px 1px 3px 1px rgba(60, 64, 67, 0.15);\n",
              "      fill: #174EA6;\n",
              "    }\n",
              "\n",
              "    .colab-df-buttons div {\n",
              "      margin-bottom: 4px;\n",
              "    }\n",
              "\n",
              "    [theme=dark] .colab-df-convert {\n",
              "      background-color: #3B4455;\n",
              "      fill: #D2E3FC;\n",
              "    }\n",
              "\n",
              "    [theme=dark] .colab-df-convert:hover {\n",
              "      background-color: #434B5C;\n",
              "      box-shadow: 0px 1px 3px 1px rgba(0, 0, 0, 0.15);\n",
              "      filter: drop-shadow(0px 1px 2px rgba(0, 0, 0, 0.3));\n",
              "      fill: #FFFFFF;\n",
              "    }\n",
              "  </style>\n",
              "\n",
              "    <script>\n",
              "      const buttonEl =\n",
              "        document.querySelector('#df-65d130d2-ecda-4e89-93e8-a228a1b25a12 button.colab-df-convert');\n",
              "      buttonEl.style.display =\n",
              "        google.colab.kernel.accessAllowed ? 'block' : 'none';\n",
              "\n",
              "      async function convertToInteractive(key) {\n",
              "        const element = document.querySelector('#df-65d130d2-ecda-4e89-93e8-a228a1b25a12');\n",
              "        const dataTable =\n",
              "          await google.colab.kernel.invokeFunction('convertToInteractive',\n",
              "                                                    [key], {});\n",
              "        if (!dataTable) return;\n",
              "\n",
              "        const docLinkHtml = 'Like what you see? Visit the ' +\n",
              "          '<a target=\"_blank\" href=https://colab.research.google.com/notebooks/data_table.ipynb>data table notebook</a>'\n",
              "          + ' to learn more about interactive tables.';\n",
              "        element.innerHTML = '';\n",
              "        dataTable['output_type'] = 'display_data';\n",
              "        await google.colab.output.renderOutput(dataTable, element);\n",
              "        const docLink = document.createElement('div');\n",
              "        docLink.innerHTML = docLinkHtml;\n",
              "        element.appendChild(docLink);\n",
              "      }\n",
              "    </script>\n",
              "  </div>\n",
              "\n",
              "\n",
              "<div id=\"df-b4ce7472-8e24-4405-a9d4-85fd616e0fab\">\n",
              "  <button class=\"colab-df-quickchart\" onclick=\"quickchart('df-b4ce7472-8e24-4405-a9d4-85fd616e0fab')\"\n",
              "            title=\"Suggest charts\"\n",
              "            style=\"display:none;\">\n",
              "\n",
              "<svg xmlns=\"http://www.w3.org/2000/svg\" height=\"24px\"viewBox=\"0 0 24 24\"\n",
              "     width=\"24px\">\n",
              "    <g>\n",
              "        <path d=\"M19 3H5c-1.1 0-2 .9-2 2v14c0 1.1.9 2 2 2h14c1.1 0 2-.9 2-2V5c0-1.1-.9-2-2-2zM9 17H7v-7h2v7zm4 0h-2V7h2v10zm4 0h-2v-4h2v4z\"/>\n",
              "    </g>\n",
              "</svg>\n",
              "  </button>\n",
              "\n",
              "<style>\n",
              "  .colab-df-quickchart {\n",
              "      --bg-color: #E8F0FE;\n",
              "      --fill-color: #1967D2;\n",
              "      --hover-bg-color: #E2EBFA;\n",
              "      --hover-fill-color: #174EA6;\n",
              "      --disabled-fill-color: #AAA;\n",
              "      --disabled-bg-color: #DDD;\n",
              "  }\n",
              "\n",
              "  [theme=dark] .colab-df-quickchart {\n",
              "      --bg-color: #3B4455;\n",
              "      --fill-color: #D2E3FC;\n",
              "      --hover-bg-color: #434B5C;\n",
              "      --hover-fill-color: #FFFFFF;\n",
              "      --disabled-bg-color: #3B4455;\n",
              "      --disabled-fill-color: #666;\n",
              "  }\n",
              "\n",
              "  .colab-df-quickchart {\n",
              "    background-color: var(--bg-color);\n",
              "    border: none;\n",
              "    border-radius: 50%;\n",
              "    cursor: pointer;\n",
              "    display: none;\n",
              "    fill: var(--fill-color);\n",
              "    height: 32px;\n",
              "    padding: 0;\n",
              "    width: 32px;\n",
              "  }\n",
              "\n",
              "  .colab-df-quickchart:hover {\n",
              "    background-color: var(--hover-bg-color);\n",
              "    box-shadow: 0 1px 2px rgba(60, 64, 67, 0.3), 0 1px 3px 1px rgba(60, 64, 67, 0.15);\n",
              "    fill: var(--button-hover-fill-color);\n",
              "  }\n",
              "\n",
              "  .colab-df-quickchart-complete:disabled,\n",
              "  .colab-df-quickchart-complete:disabled:hover {\n",
              "    background-color: var(--disabled-bg-color);\n",
              "    fill: var(--disabled-fill-color);\n",
              "    box-shadow: none;\n",
              "  }\n",
              "\n",
              "  .colab-df-spinner {\n",
              "    border: 2px solid var(--fill-color);\n",
              "    border-color: transparent;\n",
              "    border-bottom-color: var(--fill-color);\n",
              "    animation:\n",
              "      spin 1s steps(1) infinite;\n",
              "  }\n",
              "\n",
              "  @keyframes spin {\n",
              "    0% {\n",
              "      border-color: transparent;\n",
              "      border-bottom-color: var(--fill-color);\n",
              "      border-left-color: var(--fill-color);\n",
              "    }\n",
              "    20% {\n",
              "      border-color: transparent;\n",
              "      border-left-color: var(--fill-color);\n",
              "      border-top-color: var(--fill-color);\n",
              "    }\n",
              "    30% {\n",
              "      border-color: transparent;\n",
              "      border-left-color: var(--fill-color);\n",
              "      border-top-color: var(--fill-color);\n",
              "      border-right-color: var(--fill-color);\n",
              "    }\n",
              "    40% {\n",
              "      border-color: transparent;\n",
              "      border-right-color: var(--fill-color);\n",
              "      border-top-color: var(--fill-color);\n",
              "    }\n",
              "    60% {\n",
              "      border-color: transparent;\n",
              "      border-right-color: var(--fill-color);\n",
              "    }\n",
              "    80% {\n",
              "      border-color: transparent;\n",
              "      border-right-color: var(--fill-color);\n",
              "      border-bottom-color: var(--fill-color);\n",
              "    }\n",
              "    90% {\n",
              "      border-color: transparent;\n",
              "      border-bottom-color: var(--fill-color);\n",
              "    }\n",
              "  }\n",
              "</style>\n",
              "\n",
              "  <script>\n",
              "    async function quickchart(key) {\n",
              "      const quickchartButtonEl =\n",
              "        document.querySelector('#' + key + ' button');\n",
              "      quickchartButtonEl.disabled = true;  // To prevent multiple clicks.\n",
              "      quickchartButtonEl.classList.add('colab-df-spinner');\n",
              "      try {\n",
              "        const charts = await google.colab.kernel.invokeFunction(\n",
              "            'suggestCharts', [key], {});\n",
              "      } catch (error) {\n",
              "        console.error('Error during call to suggestCharts:', error);\n",
              "      }\n",
              "      quickchartButtonEl.classList.remove('colab-df-spinner');\n",
              "      quickchartButtonEl.classList.add('colab-df-quickchart-complete');\n",
              "    }\n",
              "    (() => {\n",
              "      let quickchartButtonEl =\n",
              "        document.querySelector('#df-b4ce7472-8e24-4405-a9d4-85fd616e0fab button');\n",
              "      quickchartButtonEl.style.display =\n",
              "        google.colab.kernel.accessAllowed ? 'block' : 'none';\n",
              "    })();\n",
              "  </script>\n",
              "</div>\n",
              "\n",
              "    </div>\n",
              "  </div>\n"
            ]
          },
          "metadata": {},
          "execution_count": 88
        }
      ]
    },
    {
      "cell_type": "code",
      "source": [
        "data.columns"
      ],
      "metadata": {
        "colab": {
          "base_uri": "https://localhost:8080/"
        },
        "id": "3vdQ7FcUIOZg",
        "outputId": "53cd6cf2-6487-41bb-deee-876410138b37"
      },
      "execution_count": 89,
      "outputs": [
        {
          "output_type": "execute_result",
          "data": {
            "text/plain": [
              "Index(['RowNumber', 'CustomerId', 'Surname', 'CreditScore', 'Geography',\n",
              "       'Gender', 'Age', 'Tenure', 'Balance', 'NumOfProducts', 'HasCrCard',\n",
              "       'IsActiveMember', 'EstimatedSalary', 'Exited'],\n",
              "      dtype='object')"
            ]
          },
          "metadata": {},
          "execution_count": 89
        }
      ]
    },
    {
      "cell_type": "code",
      "source": [
        "data.drop(columns=['RowNumber','CustomerId','Surname'],inplace=True)"
      ],
      "metadata": {
        "id": "3sg_QlMSNqBz"
      },
      "execution_count": 90,
      "outputs": []
    },
    {
      "cell_type": "code",
      "source": [
        "data.info()"
      ],
      "metadata": {
        "id": "HSN6frAfIOc5",
        "colab": {
          "base_uri": "https://localhost:8080/"
        },
        "outputId": "a157ce78-1763-4439-b06d-06788519fc8a"
      },
      "execution_count": 91,
      "outputs": [
        {
          "output_type": "stream",
          "name": "stdout",
          "text": [
            "<class 'pandas.core.frame.DataFrame'>\n",
            "RangeIndex: 10000 entries, 0 to 9999\n",
            "Data columns (total 11 columns):\n",
            " #   Column           Non-Null Count  Dtype  \n",
            "---  ------           --------------  -----  \n",
            " 0   CreditScore      10000 non-null  int64  \n",
            " 1   Geography        10000 non-null  object \n",
            " 2   Gender           10000 non-null  object \n",
            " 3   Age              10000 non-null  int64  \n",
            " 4   Tenure           10000 non-null  int64  \n",
            " 5   Balance          10000 non-null  float64\n",
            " 6   NumOfProducts    10000 non-null  int64  \n",
            " 7   HasCrCard        10000 non-null  int64  \n",
            " 8   IsActiveMember   10000 non-null  int64  \n",
            " 9   EstimatedSalary  10000 non-null  float64\n",
            " 10  Exited           10000 non-null  int64  \n",
            "dtypes: float64(2), int64(7), object(2)\n",
            "memory usage: 859.5+ KB\n"
          ]
        }
      ]
    },
    {
      "cell_type": "code",
      "source": [
        "data.duplicated().sum()"
      ],
      "metadata": {
        "colab": {
          "base_uri": "https://localhost:8080/"
        },
        "id": "ZgjuV7g6NIk7",
        "outputId": "32ab6010-aca5-4ad7-99c2-a166560fba47"
      },
      "execution_count": 92,
      "outputs": [
        {
          "output_type": "execute_result",
          "data": {
            "text/plain": [
              "0"
            ]
          },
          "metadata": {},
          "execution_count": 92
        }
      ]
    },
    {
      "cell_type": "code",
      "source": [
        "data['Exited'].value_counts()"
      ],
      "metadata": {
        "colab": {
          "base_uri": "https://localhost:8080/"
        },
        "id": "-hmDqSx4NOH-",
        "outputId": "6d775dcb-04a2-4a85-8bc7-ca341c635105"
      },
      "execution_count": 93,
      "outputs": [
        {
          "output_type": "execute_result",
          "data": {
            "text/plain": [
              "0    7963\n",
              "1    2037\n",
              "Name: Exited, dtype: int64"
            ]
          },
          "metadata": {},
          "execution_count": 93
        }
      ]
    },
    {
      "cell_type": "code",
      "source": [
        "data['Geography'].value_counts()"
      ],
      "metadata": {
        "colab": {
          "base_uri": "https://localhost:8080/"
        },
        "id": "uBHv6lRSNXU1",
        "outputId": "1a838af9-33f2-4e1c-a4ac-a90fa3d8997f"
      },
      "execution_count": 94,
      "outputs": [
        {
          "output_type": "execute_result",
          "data": {
            "text/plain": [
              "France     5014\n",
              "Germany    2509\n",
              "Spain      2477\n",
              "Name: Geography, dtype: int64"
            ]
          },
          "metadata": {},
          "execution_count": 94
        }
      ]
    },
    {
      "cell_type": "code",
      "source": [
        "data['Gender'].value_counts()\n"
      ],
      "metadata": {
        "colab": {
          "base_uri": "https://localhost:8080/"
        },
        "id": "RcBNAlTvNaRR",
        "outputId": "55768aa6-9875-4817-9c84-c1806be0d112"
      },
      "execution_count": 95,
      "outputs": [
        {
          "output_type": "execute_result",
          "data": {
            "text/plain": [
              "Male      5457\n",
              "Female    4543\n",
              "Name: Gender, dtype: int64"
            ]
          },
          "metadata": {},
          "execution_count": 95
        }
      ]
    },
    {
      "cell_type": "code",
      "source": [
        "data = pd.get_dummies(data,columns=['Geography','Gender'],drop_first=True)"
      ],
      "metadata": {
        "id": "LYhT5psVNdaA"
      },
      "execution_count": 96,
      "outputs": []
    },
    {
      "cell_type": "code",
      "source": [
        "X = data.drop(columns=['Exited'])\n",
        "y = data['Exited']"
      ],
      "metadata": {
        "id": "i9w0ZFKmORCR"
      },
      "execution_count": 97,
      "outputs": []
    },
    {
      "cell_type": "code",
      "source": [
        "from sklearn.model_selection import train_test_split\n",
        "X_train,X_test,y_train,y_test = train_test_split(X,y,test_size=0.2,random_state=1)"
      ],
      "metadata": {
        "id": "uNggHj_pO0Bm"
      },
      "execution_count": 98,
      "outputs": []
    },
    {
      "cell_type": "code",
      "source": [
        "print(X_train.shape,y_train.shape,X_test.shape,y_test.shape)"
      ],
      "metadata": {
        "colab": {
          "base_uri": "https://localhost:8080/"
        },
        "id": "Q7VEkDuUPKak",
        "outputId": "ec84c428-46de-4e21-b2a5-c8dca73a5372"
      },
      "execution_count": 99,
      "outputs": [
        {
          "output_type": "stream",
          "name": "stdout",
          "text": [
            "(8000, 11) (8000,) (2000, 11) (2000,)\n"
          ]
        }
      ]
    },
    {
      "cell_type": "markdown",
      "source": [
        "If we doesn't scale the features the model will not converge"
      ],
      "metadata": {
        "id": "Q2MVDrIMPodh"
      }
    },
    {
      "cell_type": "code",
      "source": [
        "from sklearn.preprocessing import StandardScaler\n",
        "scaler = StandardScaler()\n",
        "X_train_scaled = scaler.fit_transform(X_train)\n",
        "X_test_scaled = scaler.transform(X_test)"
      ],
      "metadata": {
        "id": "ZEbmX4YzPQrQ"
      },
      "execution_count": 100,
      "outputs": []
    },
    {
      "cell_type": "code",
      "source": [
        "import tensorflow\n",
        "from tensorflow import keras\n",
        "from tensorflow.keras import Sequential\n",
        "from tensorflow.keras.layers import Dense"
      ],
      "metadata": {
        "id": "M6Aj6cG5QEeD"
      },
      "execution_count": 101,
      "outputs": []
    },
    {
      "cell_type": "markdown",
      "source": [
        "keras can create sequential and non sequential models."
      ],
      "metadata": {
        "id": "tMXlrV51RpZv"
      }
    },
    {
      "cell_type": "code",
      "source": [
        "model = Sequential()\n",
        "model.add(Dense(10,activation='relu',input_dim=11)) # Hidden layer 1\n",
        "model.add(Dense(5,activation='relu')) # Hidden layer 2\n",
        "model.add(Dense(1,activation='sigmoid')) # output layer"
      ],
      "metadata": {
        "id": "AqP9W0jdQuxN"
      },
      "execution_count": 102,
      "outputs": []
    },
    {
      "cell_type": "code",
      "source": [
        "model.summary()"
      ],
      "metadata": {
        "colab": {
          "base_uri": "https://localhost:8080/"
        },
        "id": "-WlsqjcXRUW3",
        "outputId": "fcbedcd0-a9e7-4349-e078-6b1b8f14cdd4"
      },
      "execution_count": 103,
      "outputs": [
        {
          "output_type": "stream",
          "name": "stdout",
          "text": [
            "Model: \"sequential_4\"\n",
            "_________________________________________________________________\n",
            " Layer (type)                Output Shape              Param #   \n",
            "=================================================================\n",
            " dense_7 (Dense)             (None, 10)                120       \n",
            "                                                                 \n",
            " dense_8 (Dense)             (None, 5)                 55        \n",
            "                                                                 \n",
            " dense_9 (Dense)             (None, 1)                 6         \n",
            "                                                                 \n",
            "=================================================================\n",
            "Total params: 181 (724.00 Byte)\n",
            "Trainable params: 181 (724.00 Byte)\n",
            "Non-trainable params: 0 (0.00 Byte)\n",
            "_________________________________________________________________\n"
          ]
        }
      ]
    },
    {
      "cell_type": "markdown",
      "source": [
        "Model compilation stage you define what loss function is going to use and what gradient descent is going to implement."
      ],
      "metadata": {
        "id": "Hy2FzW5OR6kz"
      }
    },
    {
      "cell_type": "code",
      "source": [
        "model.compile(loss='binary_crossentropy',optimizer='Adam',metrics=['accuracy'])"
      ],
      "metadata": {
        "id": "GGPtYDn3RZfs"
      },
      "execution_count": 104,
      "outputs": []
    },
    {
      "cell_type": "code",
      "source": [
        "history = model.fit(X_train_scaled,y_train,epochs=50,validation_split=0.2)"
      ],
      "metadata": {
        "colab": {
          "base_uri": "https://localhost:8080/"
        },
        "id": "JXcixHSuSKCa",
        "outputId": "69a9ab37-761d-43bd-a621-ff050de7d9ee"
      },
      "execution_count": 105,
      "outputs": [
        {
          "output_type": "stream",
          "name": "stdout",
          "text": [
            "Epoch 1/50\n",
            "200/200 [==============================] - 1s 2ms/step - loss: 0.6071 - accuracy: 0.7055 - val_loss: 0.5262 - val_accuracy: 0.7969\n",
            "Epoch 2/50\n",
            "200/200 [==============================] - 0s 2ms/step - loss: 0.4908 - accuracy: 0.7970 - val_loss: 0.4734 - val_accuracy: 0.7981\n",
            "Epoch 3/50\n",
            "200/200 [==============================] - 0s 2ms/step - loss: 0.4517 - accuracy: 0.8012 - val_loss: 0.4411 - val_accuracy: 0.8087\n",
            "Epoch 4/50\n",
            "200/200 [==============================] - 0s 2ms/step - loss: 0.4299 - accuracy: 0.8191 - val_loss: 0.4255 - val_accuracy: 0.8119\n",
            "Epoch 5/50\n",
            "200/200 [==============================] - 0s 2ms/step - loss: 0.4182 - accuracy: 0.8230 - val_loss: 0.4150 - val_accuracy: 0.8112\n",
            "Epoch 6/50\n",
            "200/200 [==============================] - 0s 2ms/step - loss: 0.4090 - accuracy: 0.8270 - val_loss: 0.4062 - val_accuracy: 0.8138\n",
            "Epoch 7/50\n",
            "200/200 [==============================] - 0s 2ms/step - loss: 0.4000 - accuracy: 0.8333 - val_loss: 0.3961 - val_accuracy: 0.8275\n",
            "Epoch 8/50\n",
            "200/200 [==============================] - 0s 2ms/step - loss: 0.3906 - accuracy: 0.8370 - val_loss: 0.3863 - val_accuracy: 0.8338\n",
            "Epoch 9/50\n",
            "200/200 [==============================] - 0s 2ms/step - loss: 0.3817 - accuracy: 0.8411 - val_loss: 0.3767 - val_accuracy: 0.8388\n",
            "Epoch 10/50\n",
            "200/200 [==============================] - 0s 2ms/step - loss: 0.3742 - accuracy: 0.8461 - val_loss: 0.3691 - val_accuracy: 0.8456\n",
            "Epoch 11/50\n",
            "200/200 [==============================] - 0s 2ms/step - loss: 0.3683 - accuracy: 0.8481 - val_loss: 0.3638 - val_accuracy: 0.8506\n",
            "Epoch 12/50\n",
            "200/200 [==============================] - 0s 2ms/step - loss: 0.3629 - accuracy: 0.8502 - val_loss: 0.3611 - val_accuracy: 0.8487\n",
            "Epoch 13/50\n",
            "200/200 [==============================] - 0s 2ms/step - loss: 0.3591 - accuracy: 0.8528 - val_loss: 0.3574 - val_accuracy: 0.8494\n",
            "Epoch 14/50\n",
            "200/200 [==============================] - 0s 2ms/step - loss: 0.3553 - accuracy: 0.8545 - val_loss: 0.3545 - val_accuracy: 0.8544\n",
            "Epoch 15/50\n",
            "200/200 [==============================] - 0s 1ms/step - loss: 0.3528 - accuracy: 0.8591 - val_loss: 0.3538 - val_accuracy: 0.8506\n",
            "Epoch 16/50\n",
            "200/200 [==============================] - 0s 1ms/step - loss: 0.3508 - accuracy: 0.8580 - val_loss: 0.3525 - val_accuracy: 0.8494\n",
            "Epoch 17/50\n",
            "200/200 [==============================] - 0s 2ms/step - loss: 0.3493 - accuracy: 0.8592 - val_loss: 0.3499 - val_accuracy: 0.8500\n",
            "Epoch 18/50\n",
            "200/200 [==============================] - 0s 2ms/step - loss: 0.3478 - accuracy: 0.8608 - val_loss: 0.3517 - val_accuracy: 0.8494\n",
            "Epoch 19/50\n",
            "200/200 [==============================] - 0s 2ms/step - loss: 0.3468 - accuracy: 0.8600 - val_loss: 0.3495 - val_accuracy: 0.8512\n",
            "Epoch 20/50\n",
            "200/200 [==============================] - 0s 2ms/step - loss: 0.3459 - accuracy: 0.8591 - val_loss: 0.3487 - val_accuracy: 0.8481\n",
            "Epoch 21/50\n",
            "200/200 [==============================] - 0s 1ms/step - loss: 0.3449 - accuracy: 0.8592 - val_loss: 0.3488 - val_accuracy: 0.8525\n",
            "Epoch 22/50\n",
            "200/200 [==============================] - 0s 2ms/step - loss: 0.3439 - accuracy: 0.8611 - val_loss: 0.3501 - val_accuracy: 0.8475\n",
            "Epoch 23/50\n",
            "200/200 [==============================] - 0s 2ms/step - loss: 0.3433 - accuracy: 0.8602 - val_loss: 0.3480 - val_accuracy: 0.8512\n",
            "Epoch 24/50\n",
            "200/200 [==============================] - 0s 1ms/step - loss: 0.3427 - accuracy: 0.8591 - val_loss: 0.3489 - val_accuracy: 0.8512\n",
            "Epoch 25/50\n",
            "200/200 [==============================] - 0s 2ms/step - loss: 0.3418 - accuracy: 0.8616 - val_loss: 0.3483 - val_accuracy: 0.8506\n",
            "Epoch 26/50\n",
            "200/200 [==============================] - 0s 2ms/step - loss: 0.3409 - accuracy: 0.8608 - val_loss: 0.3485 - val_accuracy: 0.8506\n",
            "Epoch 27/50\n",
            "200/200 [==============================] - 0s 1ms/step - loss: 0.3410 - accuracy: 0.8616 - val_loss: 0.3479 - val_accuracy: 0.8525\n",
            "Epoch 28/50\n",
            "200/200 [==============================] - 0s 1ms/step - loss: 0.3402 - accuracy: 0.8614 - val_loss: 0.3478 - val_accuracy: 0.8519\n",
            "Epoch 29/50\n",
            "200/200 [==============================] - 0s 2ms/step - loss: 0.3401 - accuracy: 0.8594 - val_loss: 0.3486 - val_accuracy: 0.8537\n",
            "Epoch 30/50\n",
            "200/200 [==============================] - 0s 2ms/step - loss: 0.3395 - accuracy: 0.8617 - val_loss: 0.3489 - val_accuracy: 0.8537\n",
            "Epoch 31/50\n",
            "200/200 [==============================] - 0s 2ms/step - loss: 0.3389 - accuracy: 0.8611 - val_loss: 0.3498 - val_accuracy: 0.8531\n",
            "Epoch 32/50\n",
            "200/200 [==============================] - 0s 2ms/step - loss: 0.3386 - accuracy: 0.8619 - val_loss: 0.3503 - val_accuracy: 0.8525\n",
            "Epoch 33/50\n",
            "200/200 [==============================] - 0s 2ms/step - loss: 0.3388 - accuracy: 0.8639 - val_loss: 0.3492 - val_accuracy: 0.8506\n",
            "Epoch 34/50\n",
            "200/200 [==============================] - 0s 2ms/step - loss: 0.3382 - accuracy: 0.8609 - val_loss: 0.3484 - val_accuracy: 0.8544\n",
            "Epoch 35/50\n",
            "200/200 [==============================] - 0s 2ms/step - loss: 0.3373 - accuracy: 0.8611 - val_loss: 0.3505 - val_accuracy: 0.8512\n",
            "Epoch 36/50\n",
            "200/200 [==============================] - 0s 2ms/step - loss: 0.3373 - accuracy: 0.8598 - val_loss: 0.3492 - val_accuracy: 0.8556\n",
            "Epoch 37/50\n",
            "200/200 [==============================] - 0s 1ms/step - loss: 0.3370 - accuracy: 0.8594 - val_loss: 0.3484 - val_accuracy: 0.8525\n",
            "Epoch 38/50\n",
            "200/200 [==============================] - 0s 2ms/step - loss: 0.3364 - accuracy: 0.8614 - val_loss: 0.3499 - val_accuracy: 0.8550\n",
            "Epoch 39/50\n",
            "200/200 [==============================] - 0s 2ms/step - loss: 0.3363 - accuracy: 0.8603 - val_loss: 0.3514 - val_accuracy: 0.8506\n",
            "Epoch 40/50\n",
            "200/200 [==============================] - 0s 1ms/step - loss: 0.3364 - accuracy: 0.8637 - val_loss: 0.3494 - val_accuracy: 0.8531\n",
            "Epoch 41/50\n",
            "200/200 [==============================] - 0s 2ms/step - loss: 0.3368 - accuracy: 0.8628 - val_loss: 0.3496 - val_accuracy: 0.8544\n",
            "Epoch 42/50\n",
            "200/200 [==============================] - 0s 2ms/step - loss: 0.3358 - accuracy: 0.8619 - val_loss: 0.3513 - val_accuracy: 0.8525\n",
            "Epoch 43/50\n",
            "200/200 [==============================] - 0s 2ms/step - loss: 0.3355 - accuracy: 0.8634 - val_loss: 0.3497 - val_accuracy: 0.8512\n",
            "Epoch 44/50\n",
            "200/200 [==============================] - 0s 2ms/step - loss: 0.3354 - accuracy: 0.8617 - val_loss: 0.3496 - val_accuracy: 0.8506\n",
            "Epoch 45/50\n",
            "200/200 [==============================] - 0s 2ms/step - loss: 0.3352 - accuracy: 0.8630 - val_loss: 0.3494 - val_accuracy: 0.8525\n",
            "Epoch 46/50\n",
            "200/200 [==============================] - 0s 2ms/step - loss: 0.3352 - accuracy: 0.8597 - val_loss: 0.3492 - val_accuracy: 0.8537\n",
            "Epoch 47/50\n",
            "200/200 [==============================] - 0s 2ms/step - loss: 0.3350 - accuracy: 0.8622 - val_loss: 0.3507 - val_accuracy: 0.8519\n",
            "Epoch 48/50\n",
            "200/200 [==============================] - 0s 2ms/step - loss: 0.3352 - accuracy: 0.8634 - val_loss: 0.3507 - val_accuracy: 0.8512\n",
            "Epoch 49/50\n",
            "200/200 [==============================] - 0s 2ms/step - loss: 0.3351 - accuracy: 0.8617 - val_loss: 0.3509 - val_accuracy: 0.8537\n",
            "Epoch 50/50\n",
            "200/200 [==============================] - 0s 1ms/step - loss: 0.3346 - accuracy: 0.8633 - val_loss: 0.3494 - val_accuracy: 0.8531\n"
          ]
        }
      ]
    },
    {
      "cell_type": "code",
      "source": [
        "import matplotlib.pyplot as plt\n",
        "\n",
        "plt.plot(history.history['loss'])\n",
        "plt.plot(history.history['val_loss'])"
      ],
      "metadata": {
        "colab": {
          "base_uri": "https://localhost:8080/",
          "height": 447
        },
        "id": "qerpZ-11V2p1",
        "outputId": "212c06f9-7b8d-41de-db05-4ac042619143"
      },
      "execution_count": 106,
      "outputs": [
        {
          "output_type": "execute_result",
          "data": {
            "text/plain": [
              "[<matplotlib.lines.Line2D at 0x7b728e1838e0>]"
            ]
          },
          "metadata": {},
          "execution_count": 106
        },
        {
          "output_type": "display_data",
          "data": {
            "text/plain": [
              "<Figure size 640x480 with 1 Axes>"
            ],
            "image/png": "[encoded data removed]"
          },
          "metadata": {}
        }
      ]
    },
    {
      "cell_type": "code",
      "source": [
        "plt.plot(history.history['accuracy'])\n",
        "plt.plot(history.history['val_accuracy'])"
      ],
      "metadata": {
        "colab": {
          "base_uri": "https://localhost:8080/",
          "height": 447
        },
        "id": "DBYmokqAWRh-",
        "outputId": "833b7c1e-2b1d-423a-9ad3-4f0879ab4fb7"
      },
      "execution_count": 107,
      "outputs": [
        {
          "output_type": "execute_result",
          "data": {
            "text/plain": [
              "[<matplotlib.lines.Line2D at 0x7b728e0131f0>]"
            ]
          },
          "metadata": {},
          "execution_count": 107
        },
        {
          "output_type": "display_data",
          "data": {
            "text/plain": [
              "<Figure size 640x480 with 1 Axes>"
            ],
            "image/png": "[encoded data removed]"
          },
          "metadata": {}
        }
      ]
    },
    {
      "cell_type": "code",
      "source": [
        "model.layers[0].get_weights()"
      ],
      "metadata": {
        "colab": {
          "base_uri": "https://localhost:8080/"
        },
        "id": "Ju8pBS1kSWGu",
        "outputId": "80d33bda-e7d0-45b1-ddbf-6b05496f83af"
      },
      "execution_count": 108,
      "outputs": [
        {
          "output_type": "execute_result",
          "data": {
            "text/plain": [
              "[array([[-4.09068656e-04, -3.64604481e-02,  6.12556376e-02,\n",
              "         -5.50480150e-02, -1.60143793e-01,  1.63566068e-01,\n",
              "         -4.66809362e-01, -2.96649218e-01, -6.08748803e-03,\n",
              "          1.06303297e-01],\n",
              "        [ 5.63426241e-02, -8.65477502e-01, -2.93794960e-01,\n",
              "          2.99405038e-01,  3.90328630e-03, -6.93895876e-01,\n",
              "         -1.61637515e-01,  2.60678321e-01,  1.46166772e-01,\n",
              "         -8.25939775e-02],\n",
              "        [-1.83902517e-01, -8.74679685e-02,  3.81019115e-02,\n",
              "         -1.15442172e-01,  3.02410692e-01, -6.76110908e-02,\n",
              "         -5.59786439e-01, -1.84586152e-01, -5.07647991e-02,\n",
              "          1.40944461e-03],\n",
              "        [ 3.31156194e-01, -1.50299311e-01, -3.36460650e-01,\n",
              "         -1.57364622e-01, -3.02100331e-01, -1.26236275e-01,\n",
              "          7.01587349e-02,  2.81282365e-01, -8.10676590e-02,\n",
              "         -7.29242742e-01],\n",
              "        [ 1.14237845e+00,  1.36751100e-01,  3.06497395e-01,\n",
              "          6.35211775e-03,  9.96048510e-01, -4.49466780e-02,\n",
              "         -7.69677937e-01,  2.15808854e-01, -1.09912264e+00,\n",
              "         -6.09668553e-01],\n",
              "        [-3.56588997e-02, -7.01663494e-02,  5.22538841e-01,\n",
              "          1.10691182e-01,  9.32817087e-02, -3.48479390e-01,\n",
              "         -4.05602813e-01,  1.16047002e-01,  8.12795013e-03,\n",
              "          1.22443074e-02],\n",
              "        [-3.50355417e-01, -7.99173295e-01, -3.94684309e-03,\n",
              "          2.97975332e-01, -4.16874617e-01,  4.14755344e-02,\n",
              "         -1.42801672e-01,  4.99657750e-01, -5.59435248e-01,\n",
              "         -1.64510198e-02],\n",
              "        [-1.10983208e-01, -5.51126599e-02,  6.48816451e-02,\n",
              "         -2.56214410e-01,  2.64832795e-01,  1.20274574e-01,\n",
              "          1.66795850e-01,  5.64527065e-02, -4.78669256e-02,\n",
              "         -1.23578809e-01],\n",
              "        [-1.16116956e-01,  9.68573168e-02, -6.50513411e-01,\n",
              "         -9.27586496e-01,  1.32661052e-02, -1.35115087e-01,\n",
              "         -7.06737265e-02,  4.99307066e-01,  3.21459621e-01,\n",
              "         -3.66083026e-01],\n",
              "        [ 8.34421217e-02, -1.11729234e-01, -6.39144599e-01,\n",
              "          5.60722291e-01,  2.27554012e-02, -3.10760945e-01,\n",
              "         -2.48506710e-01, -4.92654204e-01,  1.47535935e-01,\n",
              "         -4.84724939e-02],\n",
              "        [-2.41648436e-01, -1.59394830e-01,  4.90313411e-01,\n",
              "         -1.28874525e-01,  7.54246339e-02,  4.01499361e-01,\n",
              "          1.56128258e-01, -2.74068356e-01, -2.02412382e-01,\n",
              "          6.95274696e-02]], dtype=float32),\n",
              " array([-0.2587568 ,  0.69235456,  0.3908371 ,  0.5322461 , -0.3030989 ,\n",
              "         0.36877626, -0.18715829,  0.2691337 ,  0.17921886, -0.39599717],\n",
              "       dtype=float32)]"
            ]
          },
          "metadata": {},
          "execution_count": 108
        }
      ]
    },
    {
      "cell_type": "code",
      "source": [
        "model.layers[1].get_weights()"
      ],
      "metadata": {
        "colab": {
          "base_uri": "https://localhost:8080/"
        },
        "id": "gfl5GS3CSqYl",
        "outputId": "348d681a-efb5-450d-b467-b1bedf76942d"
      },
      "execution_count": 109,
      "outputs": [
        {
          "output_type": "execute_result",
          "data": {
            "text/plain": [
              "[array([[-0.90046644, -0.24482144, -0.5664097 , -0.26063746,  0.76060045],\n",
              "        [ 0.05062725,  0.5322092 ,  0.6400218 ,  0.20808698, -0.8205854 ],\n",
              "        [ 0.18872234, -0.05056123,  0.43840843,  0.24390699,  0.2216425 ],\n",
              "        [ 0.6763394 , -0.03080419,  0.52050936,  0.65744376,  0.40298828],\n",
              "        [ 0.6979543 , -0.01135583,  0.11222159, -0.51404566,  0.67106026],\n",
              "        [-0.17041892,  0.17475842, -0.08915496,  0.7191201 , -0.6134366 ],\n",
              "        [-0.43639496, -0.88111293,  0.03012898, -0.555307  ,  0.21771401],\n",
              "        [-0.62484664, -0.2569086 ,  0.14441158,  0.5942236 , -0.0290463 ],\n",
              "        [ 0.01667181,  0.19299774, -0.5490625 , -0.2798706 ,  0.7554879 ],\n",
              "        [-0.5099634 ,  0.04155138, -0.71459466, -0.5313481 , -0.08480695]],\n",
              "       dtype=float32),\n",
              " array([ 0.35745186, -0.1374835 ,  0.57998174,  0.48297217, -0.08763257],\n",
              "       dtype=float32)]"
            ]
          },
          "metadata": {},
          "execution_count": 109
        }
      ]
    },
    {
      "cell_type": "code",
      "source": [
        "y_log = model.predict(X_test_scaled)"
      ],
      "metadata": {
        "colab": {
          "base_uri": "https://localhost:8080/"
        },
        "id": "hpeIIMY0Ss8b",
        "outputId": "330160e7-be91-4d6f-c67a-324fcf10b41d"
      },
      "execution_count": 110,
      "outputs": [
        {
          "output_type": "stream",
          "name": "stdout",
          "text": [
            "63/63 [==============================] - 0s 952us/step\n"
          ]
        }
      ]
    },
    {
      "cell_type": "markdown",
      "source": [
        "To predict threshold you need to plot roc_auc cruve."
      ],
      "metadata": {
        "id": "v5lM43BnS8XG"
      }
    },
    {
      "cell_type": "code",
      "source": [
        "y_pred = np.where(y_log > 0.5,1,0)"
      ],
      "metadata": {
        "id": "98vbFM-dS357"
      },
      "execution_count": 111,
      "outputs": []
    },
    {
      "cell_type": "code",
      "source": [
        "from sklearn.metrics import accuracy_score\n",
        "accuracy_score(y_test,y_pred)"
      ],
      "metadata": {
        "colab": {
          "base_uri": "https://localhost:8080/"
        },
        "id": "jDvz031BTOac",
        "outputId": "5cce2158-065b-4e5b-b26f-4423b0ad7b04"
      },
      "execution_count": 112,
      "outputs": [
        {
          "output_type": "execute_result",
          "data": {
            "text/plain": [
              "0.863"
            ]
          },
          "metadata": {},
          "execution_count": 112
        }
      ]
    },
    {
      "cell_type": "markdown",
      "source": [
        "Improve model performance\n",
        "genearlly keeping hidden layer activateion function as Rellu\n",
        "\n",
        "Increase the layers nodes\n",
        "or Increase the layers (can cause overfitting)."
      ],
      "metadata": {
        "id": "PeyJJ32QTfKX"
      }
    },
    {
      "cell_type": "code",
      "source": [],
      "metadata": {
        "id": "VuzSVN_ETX5f"
      },
      "execution_count": 112,
      "outputs": []
    }
  ]
}